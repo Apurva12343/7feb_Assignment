{
 "cells": [
  {
   "cell_type": "code",
   "execution_count": 1,
   "id": "d58dc72b-f419-439f-bb5a-2c1ff6fd73c9",
   "metadata": {},
   "outputs": [],
   "source": [
    "# Q1. You are writing code for a company. The requirement of the company is that you create a python\n",
    "# function that will check whether the password entered by the user is correct or not. The function should\n",
    "# take the password as input and return the string “Valid Password” if the entered password follows the\n",
    "# below-given password guidelines else it should return “Invalid Password”.\n",
    "# Note: 1. The Password should contain at least two uppercase letters and at least two lowercase letters.\n",
    "# 2. The Password should contain at least a number and three special characters.\n",
    "# 3. The length of the password should be 10 characters long."
   ]
  },
  {
   "cell_type": "code",
   "execution_count": 2,
   "id": "b6d82333-fee6-436e-9b25-ac6aa997f55e",
   "metadata": {},
   "outputs": [
    {
     "name": "stdin",
     "output_type": "stream",
     "text": [
      "Enter your password:  AAbb222@#$\n"
     ]
    },
    {
     "name": "stdout",
     "output_type": "stream",
     "text": [
      "Valid Password\n"
     ]
    }
   ],
   "source": [
    "def Password_validation(password):\n",
    "    if len(password) != 10:\n",
    "        return \"Invalid Password\"\n",
    "    \n",
    "    \n",
    "    uppercase, lowercase, number, special_charecter = 0, 0, 0, 0\n",
    "    for char in password:\n",
    "        if char.isupper():\n",
    "            uppercase += 1\n",
    "        \n",
    "        elif char.islower():\n",
    "            lowercase += 1\n",
    "            \n",
    "        elif char.isdigit():\n",
    "            number += 1\n",
    "            \n",
    "        else:\n",
    "            special_charecter += 1       \n",
    "    if uppercase >= 2 and lowercase >=2 and number >=1 and special_charecter >=3:\n",
    "        return \"Valid Password\"\n",
    "    \n",
    "    else:\n",
    "        return \"Invalid Password\"\n",
    "password = input(\"Enter your password: \")\n",
    "validation = Password_validation(password)\n",
    "print(validation)"
   ]
  },
  {
   "cell_type": "code",
   "execution_count": 3,
   "id": "b7ebbd32-288f-4f2d-ab90-53556ee07936",
   "metadata": {},
   "outputs": [
    {
     "name": "stdin",
     "output_type": "stream",
     "text": [
      "Enter your password:  AAjnknfjnkrvkj\n"
     ]
    },
    {
     "name": "stdout",
     "output_type": "stream",
     "text": [
      "Invalid Password\n"
     ]
    }
   ],
   "source": [
    "password = input(\"Enter your password: \")\n",
    "validation = Password_validation(password)\n",
    "print(validation)"
   ]
  },
  {
   "cell_type": "code",
   "execution_count": 4,
   "id": "b286b774-dff2-49c5-ba11-eb960295b78c",
   "metadata": {},
   "outputs": [],
   "source": [
    "# Q2. Solve the below-given questions using at least one of the following:\n",
    "# 1. Lambda function\n",
    "# 2. Filter function\n",
    "# 3. Map function\n",
    "# 4. List Comprehension\n",
    "\n",
    "# Questions:\n",
    "# A)Check if the string starts with a particular letter\n",
    "# B) Check if the string is numeric\n",
    "# C) Sort a list of tuples having fruit names and their quantity. [(\"mango\",99),(\"orange\",80), (\"grapes\", 1000)]\n",
    "# D) Find the squares of numbers from 1 to 10\n",
    "# E) Find the cube root of numbers from 1 to 10\n",
    "# F) Check if a given number is even\n",
    "# G) Filter odd numbers from the given list. [1,2,3,4,5,6,7,8,9,10]\n",
    "# H) Sort a list of integers into positive and negative integers lists.[1,2,3,4,5,6,-1,-2,-3,-4,-5,0]"
   ]
  },
  {
   "cell_type": "markdown",
   "id": "6cfb9afc-e41d-4c52-86f8-f49f760c6633",
   "metadata": {},
   "source": [
    "# A)Check if the string starts with a particular letter\n"
   ]
  },
  {
   "cell_type": "code",
   "execution_count": 5,
   "id": "0da15b73-291c-418c-afb4-8ee10601c3ff",
   "metadata": {},
   "outputs": [
    {
     "name": "stdin",
     "output_type": "stream",
     "text": [
      "Please Enter your line My name is Apurva\n",
      "Plese enter your first letter n\n"
     ]
    },
    {
     "name": "stdout",
     "output_type": "stream",
     "text": [
      "'My name is Apurva' does not starts with 'n'!\n"
     ]
    }
   ],
   "source": [
    "check_start = lambda string, letter: string.startswith(letter)\n",
    "string = input(\"Please Enter your line\")\n",
    "letter = input(\"Plese enter your first letter\")\n",
    "if check_start(string,letter):\n",
    "     print(f\"'{string}' starts with '{letter}'!\")\n",
    "else:\n",
    "    print(f\"'{string}' does not starts with '{letter}'!\")\n"
   ]
  },
  {
   "cell_type": "code",
   "execution_count": 6,
   "id": "393b7f25-cadc-47c1-b764-833cde09ed2e",
   "metadata": {},
   "outputs": [
    {
     "name": "stdin",
     "output_type": "stream",
     "text": [
      "Please Enter your line My name is Apurva\n",
      "Plese enter your first letter M\n"
     ]
    },
    {
     "name": "stdout",
     "output_type": "stream",
     "text": [
      "'My name is Apurva' starts with 'M'!\n"
     ]
    }
   ],
   "source": [
    "string = input(\"Please Enter your line\")\n",
    "letter = input(\"Plese enter your first letter\")\n",
    "if check_start(string,letter):\n",
    "     print(f\"'{string}' starts with '{letter}'!\")\n",
    "else:\n",
    "    print(f\"'{string}' does not starts with '{letter}'!\")"
   ]
  },
  {
   "cell_type": "markdown",
   "id": "8e859800-c13b-4ea0-aa63-d0484aeb3fc8",
   "metadata": {},
   "source": [
    "# B) Check if the string is numeric\n"
   ]
  },
  {
   "cell_type": "code",
   "execution_count": 7,
   "id": "244d3ffe-0f4a-407f-a724-f96db70fa012",
   "metadata": {},
   "outputs": [
    {
     "name": "stdin",
     "output_type": "stream",
     "text": [
      "Enter string:  12545\n"
     ]
    },
    {
     "name": "stdout",
     "output_type": "stream",
     "text": [
      "12545 is numeric!\n"
     ]
    }
   ],
   "source": [
    "is_numeric = lambda string : string.isnumeric()\n",
    "string = input(\"Enter string: \")\n",
    "if is_numeric(string):\n",
    "    print(f\"{string} is numeric!\")\n",
    "else:\n",
    "    print(f\"{string} is not numeric!\")"
   ]
  },
  {
   "cell_type": "code",
   "execution_count": 8,
   "id": "72800b49-d18b-4f28-bee9-d7f81e4e7a61",
   "metadata": {},
   "outputs": [
    {
     "name": "stdin",
     "output_type": "stream",
     "text": [
      "Enter string:  brehfkerh\n"
     ]
    },
    {
     "name": "stdout",
     "output_type": "stream",
     "text": [
      "brehfkerh is not numeric!\n"
     ]
    }
   ],
   "source": [
    "string = input(\"Enter string: \")\n",
    "if is_numeric(string):\n",
    "    print(f\"{string} is numeric!\")\n",
    "else:\n",
    "    print(f\"{string} is not numeric!\")"
   ]
  },
  {
   "cell_type": "markdown",
   "id": "eca56fe8-78a5-4258-8163-ead59fdd96ac",
   "metadata": {},
   "source": [
    "# C) Sort a list of tuples having fruit names and their quantity. [(\"mango\",99),(\"orange\",80), (\"grapes\", 1000)]\n"
   ]
  },
  {
   "cell_type": "code",
   "execution_count": 9,
   "id": "cbf8b06a-a916-47e9-b675-ea1aac3c3906",
   "metadata": {},
   "outputs": [
    {
     "data": {
      "text/plain": [
       "[('orange', 80), ('mango', 99), ('grapes', 1000)]"
      ]
     },
     "execution_count": 9,
     "metadata": {},
     "output_type": "execute_result"
    }
   ],
   "source": [
    "fruit = [(\"mango\",99),(\"orange\",80), (\"grapes\", 1000)]\n",
    "fruit.sort(key = lambda ele : ele[1])\n",
    "fruit"
   ]
  },
  {
   "cell_type": "markdown",
   "id": "0f74140a-ae56-49dc-99c6-e58af4e9887b",
   "metadata": {},
   "source": [
    "# D) Find the squares of numbers from 1 to 10\n"
   ]
  },
  {
   "cell_type": "code",
   "execution_count": 10,
   "id": "c4537e58-f7ff-461f-842b-ff9907b0c4b1",
   "metadata": {},
   "outputs": [
    {
     "data": {
      "text/plain": [
       "[1, 4, 9, 16, 25, 36, 49, 64, 81, 100]"
      ]
     },
     "execution_count": 10,
     "metadata": {},
     "output_type": "execute_result"
    }
   ],
   "source": [
    "Square = [numbers**2 for numbers in range(1,11)]\n",
    "Square"
   ]
  },
  {
   "cell_type": "markdown",
   "id": "b71d85a7-4728-4497-84f6-bf804a363362",
   "metadata": {},
   "source": [
    "# E) Find the cube root of numbers from 1 to 10\n"
   ]
  },
  {
   "cell_type": "code",
   "execution_count": 11,
   "id": "7337a6a0-0023-4440-9b52-bc02483a1199",
   "metadata": {},
   "outputs": [
    {
     "data": {
      "text/plain": [
       "[1.0, 1.26, 1.44, 1.59, 1.71, 1.82, 1.91, 2.0, 2.08, 2.15]"
      ]
     },
     "execution_count": 11,
     "metadata": {},
     "output_type": "execute_result"
    }
   ],
   "source": [
    "Cube = [round(num**(1/3),2) for num in range(1,11)]\n",
    "Cube"
   ]
  },
  {
   "cell_type": "markdown",
   "id": "48e8ab0e-6d2b-4d65-9668-536eb335182a",
   "metadata": {},
   "source": [
    "# F) Check if a given number is even"
   ]
  },
  {
   "cell_type": "code",
   "execution_count": 12,
   "id": "3b797807-128c-405f-ae4f-0b5a7c89d79a",
   "metadata": {},
   "outputs": [
    {
     "name": "stdin",
     "output_type": "stream",
     "text": [
      "Enter a number:  55\n"
     ]
    },
    {
     "name": "stdout",
     "output_type": "stream",
     "text": [
      "55 is a NOT a even number\n"
     ]
    }
   ],
   "source": [
    "validate_number = lambda number : number % 2 == 0\n",
    "number = int(input(\"Enter a number: \"))\n",
    "if validate_number(number):\n",
    "    print(f\"{number} is a EVEN number\")\n",
    "else:\n",
    "    print(f\"{number} is a NOT a even number\")"
   ]
  },
  {
   "cell_type": "markdown",
   "id": "cd704e8b-6f47-4899-9f78-3ea2dad5cbde",
   "metadata": {},
   "source": [
    "# G) Filter odd numbers from the given list. [1,2,3,4,5,6,7,8,9,10]\n"
   ]
  },
  {
   "cell_type": "code",
   "execution_count": 13,
   "id": "d9ab113b-e488-4b41-8015-c5f780d72bef",
   "metadata": {},
   "outputs": [
    {
     "data": {
      "text/plain": [
       "[1, 3, 5, 7, 9]"
      ]
     },
     "execution_count": 13,
     "metadata": {},
     "output_type": "execute_result"
    }
   ],
   "source": [
    "l1 = [1,2,3,4,5,6,7,8,9,10]\n",
    "Odd_number = list(filter(lambda x:x%2!=0,l1))\n",
    "Odd_number"
   ]
  },
  {
   "cell_type": "markdown",
   "id": "df806dd3-ab50-4089-8273-853179cfc2c9",
   "metadata": {},
   "source": [
    "# H) Sort a list of integers into positive and negative integers lists.[1,2,3,4,5,6,-1,-2,-3,-4,-5,0]"
   ]
  },
  {
   "cell_type": "code",
   "execution_count": 14,
   "id": "db614f23-c730-4ed8-b962-15a1fbad3cd2",
   "metadata": {},
   "outputs": [
    {
     "name": "stdout",
     "output_type": "stream",
     "text": [
      "[-1, -2, -3, -4, -5]\n",
      "[1, 2, 3, 4, 5, 6]\n"
     ]
    }
   ],
   "source": [
    "list1 = [1,2,3,4,5,6,-1,-2,-3,-4,-5,0]\n",
    "Negative = list(filter(lambda x : x<0,list1))\n",
    "Positive = list(filter(lambda x : x>0,list1))\n",
    "print(Negative)\n",
    "print(Positive)"
   ]
  },
  {
   "cell_type": "code",
   "execution_count": null,
   "id": "785336cb-3b6f-41d5-8684-6bf14f4d531f",
   "metadata": {},
   "outputs": [],
   "source": []
  }
 ],
 "metadata": {
  "kernelspec": {
   "display_name": "Python 3 (ipykernel)",
   "language": "python",
   "name": "python3"
  },
  "language_info": {
   "codemirror_mode": {
    "name": "ipython",
    "version": 3
   },
   "file_extension": ".py",
   "mimetype": "text/x-python",
   "name": "python",
   "nbconvert_exporter": "python",
   "pygments_lexer": "ipython3",
   "version": "3.10.6"
  }
 },
 "nbformat": 4,
 "nbformat_minor": 5
}
